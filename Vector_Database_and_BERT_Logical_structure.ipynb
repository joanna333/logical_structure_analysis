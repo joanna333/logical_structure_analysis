{
  "nbformat": 4,
  "nbformat_minor": 0,
  "metadata": {
    "colab": {
      "provenance": [],
      "machine_shape": "hm",
      "gpuType": "T4"
    },
    "kernelspec": {
      "name": "python3",
      "display_name": "Python 3"
    },
    "language_info": {
      "name": "python"
    },
    "accelerator": "GPU"
  },
  "cells": [
    {
      "cell_type": "markdown",
      "source": [
        "**Wikipedia -api**"
      ],
      "metadata": {
        "id": "ly6lmxwdsfZf"
      }
    },
    {
      "cell_type": "code",
      "source": [
        "!pip install wikipedia-api  # Install wikipedia-api using pip\n",
        "!pip install faiss-cpu # Install the faiss library-Vector database\n"
      ],
      "metadata": {
        "colab": {
          "base_uri": "https://localhost:8080/"
        },
        "id": "eL8zky8ut2gZ",
        "outputId": "2b3e8499-83fa-428e-cd8f-852a721cdd47"
      },
      "execution_count": 11,
      "outputs": [
        {
          "output_type": "stream",
          "name": "stdout",
          "text": [
            "Requirement already satisfied: wikipedia-api in /usr/local/lib/python3.10/dist-packages (0.7.1)\n",
            "Requirement already satisfied: requests in /usr/local/lib/python3.10/dist-packages (from wikipedia-api) (2.32.3)\n",
            "Requirement already satisfied: charset-normalizer<4,>=2 in /usr/local/lib/python3.10/dist-packages (from requests->wikipedia-api) (3.4.0)\n",
            "Requirement already satisfied: idna<4,>=2.5 in /usr/local/lib/python3.10/dist-packages (from requests->wikipedia-api) (3.10)\n",
            "Requirement already satisfied: urllib3<3,>=1.21.1 in /usr/local/lib/python3.10/dist-packages (from requests->wikipedia-api) (2.2.3)\n",
            "Requirement already satisfied: certifi>=2017.4.17 in /usr/local/lib/python3.10/dist-packages (from requests->wikipedia-api) (2024.8.30)\n",
            "Requirement already satisfied: faiss-cpu in /usr/local/lib/python3.10/dist-packages (1.9.0.post1)\n",
            "Requirement already satisfied: numpy<3.0,>=1.25.0 in /usr/local/lib/python3.10/dist-packages (from faiss-cpu) (1.26.4)\n",
            "Requirement already satisfied: packaging in /usr/local/lib/python3.10/dist-packages (from faiss-cpu) (24.2)\n"
          ]
        }
      ]
    },
    {
      "cell_type": "code",
      "source": [
        "import pandas as pd\n",
        "from transformers import pipeline\n",
        "import faiss\n",
        "import numpy as np\n",
        "from sentence_transformers import SentenceTransformer\n",
        "import wikipediaapi\n",
        "\n",
        "# Define a descriptive user agent string\n",
        "user_agent = \"MyWikipediaApp/1.0 (MyEmail@example.com)\"\n",
        "\n",
        "# Step 1: Initialize Wikipedia API and Fetch Content\n",
        "def fetch_wikipedia_content(page_name, lang='en'):\n",
        "    # Pass the user_agent argument when creating the Wikipedia object\n",
        "    wiki = wikipediaapi.Wikipedia(user_agent=user_agent, language=lang)  # Added user_agent here\n",
        "    page = wiki.page(page_name)\n",
        "    if not page.exists():\n",
        "        print(f\"Page '{page_name}' does not exist.\")\n",
        "        return None\n",
        "    return page.text\n",
        "\n",
        "# Chunk text into smaller segments\n",
        "def chunk_text(text, max_chunk_size=500):\n",
        "    \"\"\"\n",
        "    Splits large text into smaller chunks of the specified size.\n",
        "    \"\"\"\n",
        "    words = text.split()\n",
        "    chunks = []\n",
        "    for i in range(0, len(words), max_chunk_size):\n",
        "        chunks.append(\" \".join(words[i:i + max_chunk_size]))\n",
        "    return chunks\n",
        "\n",
        "# Build FAISS index\n",
        "def build_faiss_index(chunks):\n",
        "    \"\"\"\n",
        "    Builds a FAISS index from the text chunks.\n",
        "    \"\"\"\n",
        "    embeddings = embedding_model.encode(chunks)\n",
        "    dimension = embeddings.shape[1]\n",
        "    index = faiss.IndexFlatL2(dimension)\n",
        "    index.add(np.array(embeddings, dtype=np.float32))\n",
        "    return index, embeddings\n",
        "\n",
        "# Query FAISS index\n",
        "def query_faiss_index(query, index, chunks, top_k=5):\n",
        "    \"\"\"\n",
        "    Queries the FAISS index to retrieve top-matching text chunks.\n",
        "    \"\"\"\n",
        "    query_embedding = embedding_model.encode([query])\n",
        "    _, indices = index.search(np.array(query_embedding, dtype=np.float32), top_k)\n",
        "    results = [chunks[i] for i in indices[0]]\n",
        "    return results\n",
        "\n",
        "\n",
        "# Summarize results\n",
        "def summarize_results(results):\n",
        "    \"\"\"\n",
        "    Summarizes the results retrieved from the FAISS index.\n",
        "    \"\"\"\n",
        "    combined_text = \" \".join(results)\n",
        "\n",
        "    # Explicitly set max_length for truncation before passing to summarizer\n",
        "    max_input_length = summarizer.model.config.max_position_embeddings\n",
        "    truncated_text = combined_text[:max_input_length] #Truncate the text before to avoid exceeding the limit\n",
        "\n",
        "    # Enforce truncation and set max_length for summarization\n",
        "    summary = summarizer(truncated_text, max_length=500, min_length=30,\n",
        "                         do_sample=False, truncation=True, num_beams=5,  early_stopping=True )\n",
        "    return summary[0]['summary_text']\n",
        "\n",
        "\n",
        "# Save to CSV\n",
        "def save_to_csv(filename, data, columns):\n",
        "    \"\"\"\n",
        "    Saves data to a CSV file.\n",
        "    \"\"\"\n",
        "    df = pd.DataFrame(data, columns=columns)\n",
        "    df.to_csv(filename, index=False)\n",
        "\n",
        "# Main Function\n",
        "if __name__ == \"__main__\":\n",
        "    # Initialize summarization and embedding models\n",
        "    summarizer = pipeline(\"summarization\", model=\"facebook/bart-large-cnn\")\n",
        "    embedding_model = SentenceTransformer('all-MiniLM-L6-v2')\n",
        "\n",
        "    # Define topics\n",
        "    topics = [\"Thyroid\", \"Cells\", \"Brain\", \"Kidney\", \"Liver\",\n",
        "              \"Heart\", \"Lungs\", \"Diabetes\", \"Cancer\", \"Obesity\"]\n",
        "\n",
        "    # Step 1: Fetch and preprocess content\n",
        "    full_content = []\n",
        "    summarized_content = []\n",
        "    all_chunks = []\n",
        "    for topic in topics:\n",
        "        print(f\"Fetching content for topic: {topic}\")\n",
        "        content = fetch_wikipedia_content(topic)\n",
        "        if content:\n",
        "            full_content.append({\"Topic\": topic, \"Content\": content})\n",
        "            chunks = chunk_text(content)\n",
        "            all_chunks.extend(chunks)\n",
        "            summary = summarize_results([content])\n",
        "            summarized_content.append({\"Topic\": topic, \"Summary\": summary})\n",
        "\n",
        "    # Step 2: Build FAISS index\n",
        "    print(\"Building FAISS index...\")\n",
        "    index, embeddings = build_faiss_index(all_chunks)\n",
        "\n",
        "    # Step 3: Query and summarize\n",
        "    user_query = input(\"Enter your query: \")\n",
        "    top_results = query_faiss_index(user_query, index, all_chunks)\n",
        "    summary = summarize_results(top_results)\n",
        "\n",
        "    print(\"\\nSummary:\\n\", summary)\n",
        "\n",
        "    # Prepare query results for CSV\n",
        "    query_results = [{\"Query\": user_query, \"Result\": result} for result in top_results]\n",
        "    query_summary = [{\"Query\": user_query, \"Summary\": summary}]\n",
        "\n",
        "    # Save to CSV\n",
        "    print(\"Saving data to CSV files...\")\n",
        "    save_to_csv(\"full_content.csv\", full_content, [\"Topic\", \"Content\"])\n",
        "    save_to_csv(\"query_results.csv\", query_results, [\"Query\", \"Result\"])\n",
        "    save_to_csv(\"query_summary.csv\", query_summary, [\"Query\", \"Summary\"])\n"
      ],
      "metadata": {
        "colab": {
          "base_uri": "https://localhost:8080/"
        },
        "id": "aZNpa32MS6UV",
        "outputId": "24076fe3-821b-4716-de82-c41de0ad223c"
      },
      "execution_count": 12,
      "outputs": [
        {
          "output_type": "stream",
          "name": "stderr",
          "text": [
            "Hardware accelerator e.g. GPU is available in the environment, but no `device` argument is passed to the `Pipeline` object. Model will be on CPU.\n"
          ]
        },
        {
          "output_type": "stream",
          "name": "stdout",
          "text": [
            "Fetching content for topic: Thyroid\n"
          ]
        },
        {
          "output_type": "stream",
          "name": "stderr",
          "text": [
            "Asking to truncate to max_length but no maximum length is provided and the model has no predefined maximum length. Default to no truncation.\n",
            "Your max_length is set to 500, but your input_length is only 246. Since this is a summarization task, where outputs shorter than the input are typically wanted, you might consider decreasing max_length manually, e.g. summarizer('...', max_length=123)\n"
          ]
        },
        {
          "output_type": "stream",
          "name": "stdout",
          "text": [
            "Fetching content for topic: Cells\n"
          ]
        },
        {
          "output_type": "stream",
          "name": "stderr",
          "text": [
            "Your max_length is set to 500, but your input_length is only 262. Since this is a summarization task, where outputs shorter than the input are typically wanted, you might consider decreasing max_length manually, e.g. summarizer('...', max_length=131)\n"
          ]
        },
        {
          "output_type": "stream",
          "name": "stdout",
          "text": [
            "Fetching content for topic: Brain\n"
          ]
        },
        {
          "output_type": "stream",
          "name": "stderr",
          "text": [
            "Your max_length is set to 500, but your input_length is only 211. Since this is a summarization task, where outputs shorter than the input are typically wanted, you might consider decreasing max_length manually, e.g. summarizer('...', max_length=105)\n"
          ]
        },
        {
          "output_type": "stream",
          "name": "stdout",
          "text": [
            "Fetching content for topic: Kidney\n"
          ]
        },
        {
          "output_type": "stream",
          "name": "stderr",
          "text": [
            "Your max_length is set to 500, but your input_length is only 234. Since this is a summarization task, where outputs shorter than the input are typically wanted, you might consider decreasing max_length manually, e.g. summarizer('...', max_length=117)\n"
          ]
        },
        {
          "output_type": "stream",
          "name": "stdout",
          "text": [
            "Fetching content for topic: Liver\n"
          ]
        },
        {
          "output_type": "stream",
          "name": "stderr",
          "text": [
            "Your max_length is set to 500, but your input_length is only 206. Since this is a summarization task, where outputs shorter than the input are typically wanted, you might consider decreasing max_length manually, e.g. summarizer('...', max_length=103)\n"
          ]
        },
        {
          "output_type": "stream",
          "name": "stdout",
          "text": [
            "Fetching content for topic: Heart\n"
          ]
        },
        {
          "output_type": "stream",
          "name": "stderr",
          "text": [
            "Your max_length is set to 500, but your input_length is only 219. Since this is a summarization task, where outputs shorter than the input are typically wanted, you might consider decreasing max_length manually, e.g. summarizer('...', max_length=109)\n"
          ]
        },
        {
          "output_type": "stream",
          "name": "stdout",
          "text": [
            "Fetching content for topic: Lungs\n"
          ]
        },
        {
          "output_type": "stream",
          "name": "stderr",
          "text": [
            "Your max_length is set to 500, but your input_length is only 211. Since this is a summarization task, where outputs shorter than the input are typically wanted, you might consider decreasing max_length manually, e.g. summarizer('...', max_length=105)\n"
          ]
        },
        {
          "output_type": "stream",
          "name": "stdout",
          "text": [
            "Fetching content for topic: Diabetes\n"
          ]
        },
        {
          "output_type": "stream",
          "name": "stderr",
          "text": [
            "Your max_length is set to 500, but your input_length is only 203. Since this is a summarization task, where outputs shorter than the input are typically wanted, you might consider decreasing max_length manually, e.g. summarizer('...', max_length=101)\n"
          ]
        },
        {
          "output_type": "stream",
          "name": "stdout",
          "text": [
            "Fetching content for topic: Cancer\n"
          ]
        },
        {
          "output_type": "stream",
          "name": "stderr",
          "text": [
            "Your max_length is set to 500, but your input_length is only 208. Since this is a summarization task, where outputs shorter than the input are typically wanted, you might consider decreasing max_length manually, e.g. summarizer('...', max_length=104)\n"
          ]
        },
        {
          "output_type": "stream",
          "name": "stdout",
          "text": [
            "Fetching content for topic: Obesity\n"
          ]
        },
        {
          "output_type": "stream",
          "name": "stderr",
          "text": [
            "Your max_length is set to 500, but your input_length is only 206. Since this is a summarization task, where outputs shorter than the input are typically wanted, you might consider decreasing max_length manually, e.g. summarizer('...', max_length=103)\n"
          ]
        },
        {
          "name": "stdout",
          "output_type": "stream",
          "text": [
            "Building FAISS index...\n",
            "Enter your query: why cancer cells produced in body.write 4 reasons?\n"
          ]
        },
        {
          "output_type": "stream",
          "name": "stderr",
          "text": [
            "Your max_length is set to 500, but your input_length is only 205. Since this is a summarization task, where outputs shorter than the input are typically wanted, you might consider decreasing max_length manually, e.g. summarizer('...', max_length=102)\n"
          ]
        },
        {
          "output_type": "stream",
          "name": "stdout",
          "text": [
            "\n",
            "Summary:\n",
            " Tobacco use is the cause of about 22% of cancer deaths. Another 10% are due to obesity, poor diet, lack of physical activity or excessive alcohol consumption. Infection with specific viruses, bacteria and parasites is an environmental factor.\n",
            "Saving data to CSV files...\n"
          ]
        }
      ]
    },
    {
      "cell_type": "markdown",
      "source": [
        "**BERT-ANALYSE LOGICAL STRUCTURE**"
      ],
      "metadata": {
        "id": "2d87CfruLL1I"
      }
    },
    {
      "cell_type": "code",
      "source": [
        "!pip install transformers torch pandas spacy"
      ],
      "metadata": {
        "colab": {
          "base_uri": "https://localhost:8080/"
        },
        "id": "aw_QRlIJHHPy",
        "outputId": "84788b7a-b720-4789-bcdb-0155cb2d79ba"
      },
      "execution_count": 15,
      "outputs": [
        {
          "output_type": "stream",
          "name": "stdout",
          "text": [
            "Requirement already satisfied: transformers in /usr/local/lib/python3.10/dist-packages (4.46.2)\n",
            "Requirement already satisfied: torch in /usr/local/lib/python3.10/dist-packages (2.5.1+cu121)\n",
            "Requirement already satisfied: pandas in /usr/local/lib/python3.10/dist-packages (2.2.2)\n",
            "Requirement already satisfied: spacy in /usr/local/lib/python3.10/dist-packages (3.7.5)\n",
            "Requirement already satisfied: filelock in /usr/local/lib/python3.10/dist-packages (from transformers) (3.16.1)\n",
            "Requirement already satisfied: huggingface-hub<1.0,>=0.23.2 in /usr/local/lib/python3.10/dist-packages (from transformers) (0.26.2)\n",
            "Requirement already satisfied: numpy>=1.17 in /usr/local/lib/python3.10/dist-packages (from transformers) (1.26.4)\n",
            "Requirement already satisfied: packaging>=20.0 in /usr/local/lib/python3.10/dist-packages (from transformers) (24.2)\n",
            "Requirement already satisfied: pyyaml>=5.1 in /usr/local/lib/python3.10/dist-packages (from transformers) (6.0.2)\n",
            "Requirement already satisfied: regex!=2019.12.17 in /usr/local/lib/python3.10/dist-packages (from transformers) (2024.9.11)\n",
            "Requirement already satisfied: requests in /usr/local/lib/python3.10/dist-packages (from transformers) (2.32.3)\n",
            "Requirement already satisfied: safetensors>=0.4.1 in /usr/local/lib/python3.10/dist-packages (from transformers) (0.4.5)\n",
            "Requirement already satisfied: tokenizers<0.21,>=0.20 in /usr/local/lib/python3.10/dist-packages (from transformers) (0.20.3)\n",
            "Requirement already satisfied: tqdm>=4.27 in /usr/local/lib/python3.10/dist-packages (from transformers) (4.66.6)\n",
            "Requirement already satisfied: typing-extensions>=4.8.0 in /usr/local/lib/python3.10/dist-packages (from torch) (4.12.2)\n",
            "Requirement already satisfied: networkx in /usr/local/lib/python3.10/dist-packages (from torch) (3.4.2)\n",
            "Requirement already satisfied: jinja2 in /usr/local/lib/python3.10/dist-packages (from torch) (3.1.4)\n",
            "Requirement already satisfied: fsspec in /usr/local/lib/python3.10/dist-packages (from torch) (2024.10.0)\n",
            "Requirement already satisfied: sympy==1.13.1 in /usr/local/lib/python3.10/dist-packages (from torch) (1.13.1)\n",
            "Requirement already satisfied: mpmath<1.4,>=1.1.0 in /usr/local/lib/python3.10/dist-packages (from sympy==1.13.1->torch) (1.3.0)\n",
            "Requirement already satisfied: python-dateutil>=2.8.2 in /usr/local/lib/python3.10/dist-packages (from pandas) (2.8.2)\n",
            "Requirement already satisfied: pytz>=2020.1 in /usr/local/lib/python3.10/dist-packages (from pandas) (2024.2)\n",
            "Requirement already satisfied: tzdata>=2022.7 in /usr/local/lib/python3.10/dist-packages (from pandas) (2024.2)\n",
            "Requirement already satisfied: spacy-legacy<3.1.0,>=3.0.11 in /usr/local/lib/python3.10/dist-packages (from spacy) (3.0.12)\n",
            "Requirement already satisfied: spacy-loggers<2.0.0,>=1.0.0 in /usr/local/lib/python3.10/dist-packages (from spacy) (1.0.5)\n",
            "Requirement already satisfied: murmurhash<1.1.0,>=0.28.0 in /usr/local/lib/python3.10/dist-packages (from spacy) (1.0.10)\n",
            "Requirement already satisfied: cymem<2.1.0,>=2.0.2 in /usr/local/lib/python3.10/dist-packages (from spacy) (2.0.8)\n",
            "Requirement already satisfied: preshed<3.1.0,>=3.0.2 in /usr/local/lib/python3.10/dist-packages (from spacy) (3.0.9)\n",
            "Requirement already satisfied: thinc<8.3.0,>=8.2.2 in /usr/local/lib/python3.10/dist-packages (from spacy) (8.2.5)\n",
            "Requirement already satisfied: wasabi<1.2.0,>=0.9.1 in /usr/local/lib/python3.10/dist-packages (from spacy) (1.1.3)\n",
            "Requirement already satisfied: srsly<3.0.0,>=2.4.3 in /usr/local/lib/python3.10/dist-packages (from spacy) (2.4.8)\n",
            "Requirement already satisfied: catalogue<2.1.0,>=2.0.6 in /usr/local/lib/python3.10/dist-packages (from spacy) (2.0.10)\n",
            "Requirement already satisfied: weasel<0.5.0,>=0.1.0 in /usr/local/lib/python3.10/dist-packages (from spacy) (0.4.1)\n",
            "Requirement already satisfied: typer<1.0.0,>=0.3.0 in /usr/local/lib/python3.10/dist-packages (from spacy) (0.13.0)\n",
            "Requirement already satisfied: pydantic!=1.8,!=1.8.1,<3.0.0,>=1.7.4 in /usr/local/lib/python3.10/dist-packages (from spacy) (2.9.2)\n",
            "Requirement already satisfied: setuptools in /usr/local/lib/python3.10/dist-packages (from spacy) (75.1.0)\n",
            "Requirement already satisfied: langcodes<4.0.0,>=3.2.0 in /usr/local/lib/python3.10/dist-packages (from spacy) (3.4.1)\n",
            "Requirement already satisfied: language-data>=1.2 in /usr/local/lib/python3.10/dist-packages (from langcodes<4.0.0,>=3.2.0->spacy) (1.2.0)\n",
            "Requirement already satisfied: annotated-types>=0.6.0 in /usr/local/lib/python3.10/dist-packages (from pydantic!=1.8,!=1.8.1,<3.0.0,>=1.7.4->spacy) (0.7.0)\n",
            "Requirement already satisfied: pydantic-core==2.23.4 in /usr/local/lib/python3.10/dist-packages (from pydantic!=1.8,!=1.8.1,<3.0.0,>=1.7.4->spacy) (2.23.4)\n",
            "Requirement already satisfied: six>=1.5 in /usr/local/lib/python3.10/dist-packages (from python-dateutil>=2.8.2->pandas) (1.16.0)\n",
            "Requirement already satisfied: charset-normalizer<4,>=2 in /usr/local/lib/python3.10/dist-packages (from requests->transformers) (3.4.0)\n",
            "Requirement already satisfied: idna<4,>=2.5 in /usr/local/lib/python3.10/dist-packages (from requests->transformers) (3.10)\n",
            "Requirement already satisfied: urllib3<3,>=1.21.1 in /usr/local/lib/python3.10/dist-packages (from requests->transformers) (2.2.3)\n",
            "Requirement already satisfied: certifi>=2017.4.17 in /usr/local/lib/python3.10/dist-packages (from requests->transformers) (2024.8.30)\n",
            "Requirement already satisfied: blis<0.8.0,>=0.7.8 in /usr/local/lib/python3.10/dist-packages (from thinc<8.3.0,>=8.2.2->spacy) (0.7.11)\n",
            "Requirement already satisfied: confection<1.0.0,>=0.0.1 in /usr/local/lib/python3.10/dist-packages (from thinc<8.3.0,>=8.2.2->spacy) (0.1.5)\n",
            "Requirement already satisfied: click>=8.0.0 in /usr/local/lib/python3.10/dist-packages (from typer<1.0.0,>=0.3.0->spacy) (8.1.7)\n",
            "Requirement already satisfied: shellingham>=1.3.0 in /usr/local/lib/python3.10/dist-packages (from typer<1.0.0,>=0.3.0->spacy) (1.5.4)\n",
            "Requirement already satisfied: rich>=10.11.0 in /usr/local/lib/python3.10/dist-packages (from typer<1.0.0,>=0.3.0->spacy) (13.9.4)\n",
            "Requirement already satisfied: cloudpathlib<1.0.0,>=0.7.0 in /usr/local/lib/python3.10/dist-packages (from weasel<0.5.0,>=0.1.0->spacy) (0.20.0)\n",
            "Requirement already satisfied: smart-open<8.0.0,>=5.2.1 in /usr/local/lib/python3.10/dist-packages (from weasel<0.5.0,>=0.1.0->spacy) (7.0.5)\n",
            "Requirement already satisfied: MarkupSafe>=2.0 in /usr/local/lib/python3.10/dist-packages (from jinja2->torch) (3.0.2)\n",
            "Requirement already satisfied: marisa-trie>=0.7.7 in /usr/local/lib/python3.10/dist-packages (from language-data>=1.2->langcodes<4.0.0,>=3.2.0->spacy) (1.2.1)\n",
            "Requirement already satisfied: markdown-it-py>=2.2.0 in /usr/local/lib/python3.10/dist-packages (from rich>=10.11.0->typer<1.0.0,>=0.3.0->spacy) (3.0.0)\n",
            "Requirement already satisfied: pygments<3.0.0,>=2.13.0 in /usr/local/lib/python3.10/dist-packages (from rich>=10.11.0->typer<1.0.0,>=0.3.0->spacy) (2.18.0)\n",
            "Requirement already satisfied: wrapt in /usr/local/lib/python3.10/dist-packages (from smart-open<8.0.0,>=5.2.1->weasel<0.5.0,>=0.1.0->spacy) (1.16.0)\n",
            "Requirement already satisfied: mdurl~=0.1 in /usr/local/lib/python3.10/dist-packages (from markdown-it-py>=2.2.0->rich>=10.11.0->typer<1.0.0,>=0.3.0->spacy) (0.1.2)\n"
          ]
        }
      ]
    },
    {
      "cell_type": "code",
      "source": [
        "import pandas as pd\n",
        "import torch\n",
        "from transformers import BertTokenizer, BertForSequenceClassification\n",
        "import spacy\n",
        "import networkx as nx\n",
        "import matplotlib.pyplot as plt\n",
        "\n",
        "# Load spaCy model for sentence segmentation and dependency parsing\n",
        "nlp = spacy.load(\"en_core_web_sm\")\n",
        "\n",
        "# Define a BERT Dataset Class for Relationship Classification\n",
        "class RelationshipDataset(torch.utils.data.Dataset):\n",
        "    def __init__(self, sentences, labels, tokenizer, max_len):\n",
        "        self.sentences = sentences\n",
        "        self.labels = labels\n",
        "        self.tokenizer = tokenizer\n",
        "        self.max_len = max_len\n",
        "\n",
        "    def __len__(self):\n",
        "        return len(self.sentences)\n",
        "\n",
        "    def __getitem__(self, item):\n",
        "        sentence = self.sentences[item]\n",
        "        label = self.labels[item]\n",
        "\n",
        "        encoding = self.tokenizer.encode_plus(\n",
        "            sentence[0], sentence[1],\n",
        "            max_length=self.max_len,\n",
        "            padding=\"max_length\",\n",
        "            truncation=True,\n",
        "            return_tensors=\"pt\"\n",
        "        )\n",
        "\n",
        "        input_ids = encoding[\"input_ids\"].flatten()\n",
        "        attention_mask = encoding[\"attention_mask\"].flatten()\n",
        "\n",
        "        return {\n",
        "            \"input_ids\": input_ids,\n",
        "            \"attention_mask\": attention_mask,\n",
        "            \"labels\": torch.tensor(label, dtype=torch.long)\n",
        "        }\n",
        "\n",
        "# Define relationship classification model (fine-tuned BERT)\n",
        "class RelationshipClassifier(torch.nn.Module):\n",
        "    def __init__(self, model_name=\"bert-base-uncased\"):\n",
        "        super(RelationshipClassifier, self).__init__()\n",
        "        self.bert = BertForSequenceClassification.from_pretrained(model_name, num_labels=4)  # 4 relationships\n",
        "\n",
        "    def forward(self, input_ids, attention_mask, token_type_ids=None): # Add token_type_ids as an argument\n",
        "        outputs = self.bert(input_ids, attention_mask=attention_mask)  # Remove token_type_ids\n",
        "        return outputs\n",
        "\n",
        "# Define relationship mapping\n",
        "relationship_mapping = {\n",
        "    0: \"causality\",\n",
        "    1: \"condition\",\n",
        "    2: \"sequence\",\n",
        "    3: \"comparison\",\n",
        "    4: \"other\"\n",
        "}\n",
        "\n",
        "# Function to classify relationships\n",
        "def classify_relation_with_bert(sentences, model, tokenizer):\n",
        "    model.eval()\n",
        "\n",
        "    inputs = tokenizer(sentences[0], sentences[1], return_tensors=\"pt\", padding=True, truncation=True, max_length=512)\n",
        "    with torch.no_grad():\n",
        "        outputs = model(**inputs)\n",
        "\n",
        "    # Get prediction\n",
        "    predictions = torch.argmax(outputs.logits, dim=-1)\n",
        "\n",
        "    return relationship_mapping[predictions.item()]\n",
        "\n",
        "# Extract text segments (sentences) from the summary\n",
        "def extract_text_segments(text):\n",
        "    doc = nlp(text)\n",
        "    segments = [sent.text.strip() for sent in doc.sents]\n",
        "    return segments\n",
        "\n",
        "# Function to identify the type of relationship in each sentence\n",
        "def identify_relationship_type(sentence):\n",
        "    # Parse sentence with spaCy\n",
        "    doc = nlp(sentence)\n",
        "\n",
        "    # Initialize relationship type as \"other\"\n",
        "    relationship_type = \"other\"\n",
        "\n",
        "    # Check for causality (e.g., \"because\", \"due to\", \"cause\")\n",
        "    if any(tok.dep_ == \"prep\" and tok.text in [\"because\", \"due\", \"cause\"] for tok in doc):\n",
        "        relationship_type = \"causality\"\n",
        "\n",
        "    # Check for condition (e.g., \"if\", \"unless\")\n",
        "    elif any(tok.dep_ == \"prep\" and tok.text in [\"if\", \"unless\", \"when\"] for tok in doc):\n",
        "        relationship_type = \"condition\"\n",
        "\n",
        "    # Check for sequence (e.g., \"first\", \"then\", \"next\")\n",
        "    elif any(tok.dep_ == \"advmod\" and tok.text in [\"first\", \"then\", \"next\", \"after\"] for tok in doc):\n",
        "        relationship_type = \"sequence\"\n",
        "\n",
        "    # Check for comparison (e.g., \"like\", \"as\")\n",
        "    elif any(tok.dep_ == \"prep\" and tok.text in [\"like\", \"as\"] for tok in doc):\n",
        "        relationship_type = \"comparison\"\n",
        "\n",
        "    return relationship_type\n",
        "\n",
        "# Function to create a graph with relationships\n",
        "def create_graph_with_relationships(segments, relationships):\n",
        "    G = nx.DiGraph()  # Directed graph for logical flow\n",
        "\n",
        "    # Add nodes with text (sentences)\n",
        "    for i, segment in enumerate(segments):\n",
        "        G.add_node(i, text=segment)\n",
        "\n",
        "    # Add edges with relationship labels\n",
        "    for i in range(len(relationships)):\n",
        "        G.add_edge(i, i + 1, relation=relationships[i])\n",
        "\n",
        "    return G\n",
        "\n",
        "# Function to visualize the graph with relationships\n",
        "def visualize_graph(graph):\n",
        "    pos = nx.spring_layout(graph)  # Layout for nodes\n",
        "    labels = nx.get_node_attributes(graph, 'text')\n",
        "    edge_labels = nx.get_edge_attributes(graph, 'relation')\n",
        "\n",
        "    # Draw nodes and labels\n",
        "    plt.figure(figsize=(12, 12))\n",
        "    nx.draw(graph, pos, with_labels=True, labels=labels, node_size=3000, node_color=\"skyblue\", font_size=10)\n",
        "    nx.draw_networkx_edge_labels(graph, pos, edge_labels=edge_labels)\n",
        "    plt.title(\"Sentence Relationships Graph\")\n",
        "    plt.show()\n",
        "\n",
        "# Process CSV and classify relationships\n",
        "def process_and_generate_summary(file_path, output_file, model, tokenizer):\n",
        "    df = pd.read_csv(file_path)\n",
        "\n",
        "    summarized_data = []\n",
        "    all_graphs = []  # To store graphs for visualization\n",
        "\n",
        "    for _, row in df.iterrows():\n",
        "        topic = row.get(\"Query\", \"Unknown Topic\")\n",
        "        text = row[\"Summary\"]\n",
        "\n",
        "        # Extract segments (sentences)\n",
        "        segments = extract_text_segments(text)\n",
        "\n",
        "        relationships = []\n",
        "        for i in range(len(segments) - 1):\n",
        "            sentences_pair = (segments[i], segments[i + 1])\n",
        "            relation = classify_relation_with_bert(sentences_pair, model, tokenizer)\n",
        "            relationships.append(relation)\n",
        "\n",
        "        # Store summarized data\n",
        "        for i, relation in enumerate(relationships):\n",
        "            # Classifying the relationship for text type (causality, sequence, condition, comparison,or other)\n",
        "            type_of_text = identify_relationship_type(segments[i])  # Identify the type of relationship\n",
        "\n",
        "            reason = f\"The relationship between sentence {i+1} and sentence {i+2} is {relation}.\"\n",
        "\n",
        "            summarized_data.append({\n",
        "                \"Topic\": topic,\n",
        "                \"Original_Text\": segments[i],\n",
        "                \"Next_Text\": segments[i + 1],\n",
        "                \"Relationship_Type\": relation,\n",
        "                \"Type_of_Text\": type_of_text,  # Add Type of Text column\n",
        "                \"Reason_for_Summary\": reason\n",
        "            })\n",
        "\n",
        "        # Create graph for this text\n",
        "        graph = create_graph_with_relationships(segments, relationships)\n",
        "        all_graphs.append(graph)  # Store for later visualization\n",
        "\n",
        "    # Save to CSV\n",
        "    summarized_df = pd.DataFrame(summarized_data)\n",
        "    summarized_df.to_csv(output_file, index=False)\n",
        "    print(f\"Summarized data saved to {output_file}\")\n",
        "\n",
        "    # Visualize the last graph in the collection (optional)\n",
        "    visualize_graph(all_graphs[-1])  # Visualize the last processed graph\n",
        "\n",
        "# Main function to load model, tokenizer, and process the CSV\n",
        "def main(csv_file_path, output_file_path):\n",
        "    # Load pre-trained BERT model and tokenizer\n",
        "    tokenizer = BertTokenizer.from_pretrained(\"bert-base-uncased\")\n",
        "    model = RelationshipClassifier()\n",
        "\n",
        "    # Here, we assume that the model is pre-trained or fine-tuned\n",
        "     # model.load_state_dict(torch.load(\"fine_tuned_bert_model.pth\"))\n",
        "\n",
        "    # Process and generate the summary CSV\n",
        "    process_and_generate_summary(csv_file_path, output_file_path, model, tokenizer)\n",
        "\n",
        "# Run the program\n",
        "csv_file_path = \"/content/query_summary.csv\"  # Replace with your input CSV file path\n",
        "output_file_path = \"summarized_output_with_bert.csv\"  # Path to save the output\n",
        "\n",
        "main(csv_file_path, output_file_path)\n"
      ],
      "metadata": {
        "colab": {
          "base_uri": "https://localhost:8080/",
          "height": 1000
        },
        "id": "R9g7JRZ8aSFG",
        "outputId": "b361539c-4206-4212-9ea2-2b4f9098d31b"
      },
      "execution_count": 17,
      "outputs": [
        {
          "output_type": "stream",
          "name": "stderr",
          "text": [
            "/usr/local/lib/python3.10/dist-packages/spacy/util.py:1740: UserWarning: [W111] Jupyter notebook detected: if using `prefer_gpu()` or `require_gpu()`, include it in the same cell right before `spacy.load()` to ensure that the model is loaded on the correct device. More information: http://spacy.io/usage/v3#jupyter-notebook-gpu\n",
            "  warnings.warn(Warnings.W111)\n",
            "Some weights of BertForSequenceClassification were not initialized from the model checkpoint at bert-base-uncased and are newly initialized: ['classifier.bias', 'classifier.weight']\n",
            "You should probably TRAIN this model on a down-stream task to be able to use it for predictions and inference.\n"
          ]
        },
        {
          "output_type": "stream",
          "name": "stdout",
          "text": [
            "Summarized data saved to summarized_output_with_bert.csv\n"
          ]
        },
        {
          "output_type": "display_data",
          "data": {
            "text/plain": [
              "<Figure size 1200x1200 with 1 Axes>"
            ],
            "image/png": "[encoded data removed]"
          },
          "metadata": {}
        }
      ]
    }
  ]
}